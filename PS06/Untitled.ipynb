{
 "cells": [
  {
   "cell_type": "markdown",
   "metadata": {},
   "source": [
    "# MI2 - ES06: ICA2, Noise and Kurtosis\n",
    "## The chantastic 4: Elisabeth Kress, Paola Suárez, Jianmeng Wu and Esra Zihni"
   ]
  },
  {
   "cell_type": "code",
   "execution_count": 1,
   "metadata": {
    "collapsed": true
   },
   "outputs": [],
   "source": [
    "import numpy as np\n",
    "import matplotlib.pyplot as plt\n",
    "from IPython.display import Audio"
   ]
  },
  {
   "cell_type": "markdown",
   "metadata": {},
   "source": [
    "## 1. Natural Gradient"
   ]
  },
  {
   "cell_type": "markdown",
   "metadata": {},
   "source": [
    "### a) ICA-learning scheme based on natural gradient"
   ]
  },
  {
   "cell_type": "code",
   "execution_count": 2,
   "metadata": {
    "collapsed": true
   },
   "outputs": [],
   "source": [
    "# Helper function for the transformed data\n",
    "def logistic(y):\n",
    "    return 1/(1+np.exp(-y))"
   ]
  },
  {
   "cell_type": "code",
   "execution_count": 17,
   "metadata": {
    "collapsed": true
   },
   "outputs": [],
   "source": [
    "def nat_meng(data, w0, eps0=.5, lamb=0.99):\n",
    "    \"\"\"\n",
    "    Computes natural gradient ascent on an array of mixed sounds in order to obtain the best weight matrix.\n",
    "    data: an array containing mixed sources.\n",
    "    w0: initial weight matrix, randomly generated.\n",
    "    returns\n",
    "    ws: an array of all the evolution of weights.\n",
    "    \"\"\"\n",
    "    ws = np.zeros((source1.shape[0]+1, 3, 3))\n",
    "    ws[0] = w0\n",
    "    for t in np.arange(source1.shape[0]):\n",
    "        x = data[:, t]\n",
    "        W = ws[t].copy()\n",
    "        eps = eps0 * lamb\n",
    "        delta = np.identity(3)\n",
    "        u = np.dot(W, x)\n",
    "        update = np.dot(delta, W) + np.dot((1- 2*logistic(u)).reshape(3,1), np.dot(u.reshape(1,3), W))\n",
    "        delta_W = eps * update\n",
    "        W += delta_W\n",
    "        ws[t+1] = W\n",
    "    return ws"
   ]
  },
  {
   "cell_type": "markdown",
   "metadata": {},
   "source": [
    "### b) ICA on sounds and noise"
   ]
  },
  {
   "cell_type": "code",
   "execution_count": 4,
   "metadata": {
    "collapsed": true
   },
   "outputs": [],
   "source": [
    "# Load sounds\n",
    "source1 = np.loadtxt('sounds/sound1.dat')\n",
    "source2 = np.loadtxt('sounds/sound2.dat')\n",
    "original = np.array([source1, source2])"
   ]
  },
  {
   "cell_type": "code",
   "execution_count": 5,
   "metadata": {
    "collapsed": true
   },
   "outputs": [],
   "source": [
    "# Create Gaussian noise using mu and sigma from the first two sources \n",
    "mu = np.mean(original.mean(axis=1))\n",
    "sigma = np.mean(original.std(axis=1))\n",
    "source3 = np.random.normal(loc=mu, scale=sigma, size=source1.shape)"
   ]
  },
  {
   "cell_type": "code",
   "execution_count": 6,
   "metadata": {
    "collapsed": true
   },
   "outputs": [],
   "source": [
    "# Add all sources\n",
    "original = np.array([source1, source2, source3])"
   ]
  },
  {
   "cell_type": "code",
   "execution_count": 7,
   "metadata": {
    "collapsed": false
   },
   "outputs": [],
   "source": [
    "# Create an invertible mixing matrix\n",
    "A = np.random.normal(loc=mu, scale=sigma, size=(3, 3)) #scipy.stats.ortho_group.rvs\n",
    "exception = True\n",
    "while exception:\n",
    "    try:\n",
    "        np.linalg.inv(A)\n",
    "    except:\n",
    "        A = np.random.normal(loc=mu, scale=sigma, size=(3, 3))\n",
    "    else:\n",
    "        exception = False"
   ]
  },
  {
   "cell_type": "code",
   "execution_count": 8,
   "metadata": {
    "collapsed": false
   },
   "outputs": [],
   "source": [
    "# Mix the sources\n",
    "mixed = np.dot(A, original)"
   ]
  },
  {
   "cell_type": "code",
   "execution_count": 9,
   "metadata": {
    "collapsed": false
   },
   "outputs": [],
   "source": [
    "# Shuffle\n",
    "mixedT = mixed.T.copy()\n",
    "np.random.shuffle(mixedT)\n",
    "mixed_shuffle = mixedT.T"
   ]
  },
  {
   "cell_type": "code",
   "execution_count": 10,
   "metadata": {
    "collapsed": false
   },
   "outputs": [],
   "source": [
    "# Center\n",
    "mixed_c = np.subtract(mixed_shuffle.T, mixed_shuffle.mean(axis=1)).T"
   ]
  },
  {
   "cell_type": "code",
   "execution_count": 11,
   "metadata": {
    "collapsed": false
   },
   "outputs": [],
   "source": [
    "# Initialize weights\n",
    "W0 = np.random.uniform(0, 1, (3, 3))"
   ]
  },
  {
   "cell_type": "code",
   "execution_count": 18,
   "metadata": {
    "collapsed": false
   },
   "outputs": [
    {
     "name": "stderr",
     "output_type": "stream",
     "text": [
      "/System/Library/anaconda/lib/python3.6/site-packages/ipykernel/__main__.py:3: RuntimeWarning: overflow encountered in exp\n",
      "  app.launch_new_instance()\n"
     ]
    }
   ],
   "source": [
    "# Run natural gradient\n",
    "Ws = nat_meng(mixed_c, W0)"
   ]
  },
  {
   "cell_type": "code",
   "execution_count": 19,
   "metadata": {
    "collapsed": false
   },
   "outputs": [
    {
     "data": {
      "text/plain": [
       "array([[ nan,  nan,  nan],\n",
       "       [ nan,  nan,  nan],\n",
       "       [ nan,  nan,  nan]])"
      ]
     },
     "execution_count": 19,
     "metadata": {},
     "output_type": "execute_result"
    }
   ],
   "source": [
    "Ws[-1]"
   ]
  },
  {
   "cell_type": "markdown",
   "metadata": {},
   "source": [
    "### c) Repeat with a different noise source"
   ]
  },
  {
   "cell_type": "code",
   "execution_count": null,
   "metadata": {
    "collapsed": false
   },
   "outputs": [],
   "source": [
    "Audio(original[2], rate=8192)"
   ]
  },
  {
   "cell_type": "code",
   "execution_count": null,
   "metadata": {
    "collapsed": false
   },
   "outputs": [],
   "source": []
  },
  {
   "cell_type": "code",
   "execution_count": null,
   "metadata": {
    "collapsed": true
   },
   "outputs": [],
   "source": []
  }
 ],
 "metadata": {
  "kernelspec": {
   "display_name": "Python 3",
   "language": "python",
   "name": "python3"
  },
  "language_info": {
   "codemirror_mode": {
    "name": "ipython",
    "version": 3
   },
   "file_extension": ".py",
   "mimetype": "text/x-python",
   "name": "python",
   "nbconvert_exporter": "python",
   "pygments_lexer": "ipython3",
   "version": "3.6.0"
  }
 },
 "nbformat": 4,
 "nbformat_minor": 2
}
